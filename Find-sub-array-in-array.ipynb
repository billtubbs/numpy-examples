{
 "cells": [
  {
   "cell_type": "markdown",
   "id": "599b9c95",
   "metadata": {},
   "source": [
    "# Find 2D sub-array in another 2D array\n",
    "\n",
    "based on this Stackoverflow question:\n",
    "- https://stackoverflow.com/q/73522465/1609514"
   ]
  },
  {
   "cell_type": "code",
   "execution_count": null,
   "id": "ac320820",
   "metadata": {},
   "outputs": [],
   "source": [
    "# %load find_array_in_array_2d.py\n",
    "import numpy as np\n",
    "\n",
    "\n",
    "def find_array_in_array_2d(ar, ar2):\n",
    "\n",
    "    # Find all matches with first element of ar2\n",
    "    match_idx = np.nonzero(ar == ar2[0, 0])\n",
    "\n",
    "    # Check remaining indices of ar2\n",
    "    for i, j in list(np.ndindex(ar2.shape))[1:]:\n",
    "\n",
    "        if len(match_idx[0]) == 0:\n",
    "            break\n",
    "\n",
    "        # Index into ar offset by i, j\n",
    "        nz2 = [match_idx[0] + i, match_idx[1] + j]\n",
    "\n",
    "        # Remove any that are out of bounds\n",
    "        not_oob = (nz2[0] < ar.shape[0]) & (nz2[1] < ar.shape[1])\n",
    "        nz2 = nz2[0][not_oob], nz2[1][not_oob]\n",
    "\n",
    "        # Find remaining matches with selected element\n",
    "        to_keep = np.nonzero(ar[nz2] == ar2[i, j])[0]\n",
    "        match_idx = match_idx[0][to_keep], match_idx[1][to_keep]\n",
    "\n",
    "    return match_idx"
   ]
  },
  {
   "cell_type": "markdown",
   "id": "56ec09e0",
   "metadata": {},
   "source": [
    "## Example from stackoverflow question"
   ]
  },
  {
   "cell_type": "code",
   "execution_count": 9,
   "id": "e0e1a7a0",
   "metadata": {},
   "outputs": [],
   "source": [
    "ar = np.array([[1, 1, 1, 1, 1, 1, 1, 1, 1, 1],\n",
    " [1, 1, 1, 1, 1, 1, 1, 1, 1, 1],\n",
    " [1, 1, 0, 1, 1, 0, 1, 1, 0, 1],\n",
    " [1, 1, 0, 1, 1, 0, 1, 1, 0, 1],\n",
    " [1, 1, 1, 1, 0, 0, 1, 1, 1, 1],\n",
    " [1, 1, 1, 1, 0, 0, 1, 1, 1, 0],\n",
    " [1, 1, 1, 1, 1, 0, 1, 1, 1, 1],\n",
    " [1, 1, 1, 1, 0, 0, 1, 1, 1, 1],\n",
    " [1, 1, 0, 1, 1, 0, 1, 1, 1, 2],\n",
    " [1, 1, 0, 1, 1, 0, 1, 1, 1, 1]]\n",
    ")\n",
    "\n",
    "ar2 = np.zeros((2,2))"
   ]
  },
  {
   "cell_type": "code",
   "execution_count": 10,
   "id": "28fd9c97",
   "metadata": {},
   "outputs": [
    {
     "data": {
      "text/plain": [
       "(array([4]), array([4]))"
      ]
     },
     "execution_count": 10,
     "metadata": {},
     "output_type": "execute_result"
    }
   ],
   "source": [
    "find_array_in_array_2d(ar, ar2)"
   ]
  },
  {
   "cell_type": "code",
   "execution_count": null,
   "id": "54bb641a",
   "metadata": {},
   "outputs": [],
   "source": []
  }
 ],
 "metadata": {
  "kernelspec": {
   "display_name": "torch",
   "language": "python",
   "name": "torch"
  },
  "language_info": {
   "codemirror_mode": {
    "name": "ipython",
    "version": 3
   },
   "file_extension": ".py",
   "mimetype": "text/x-python",
   "name": "python",
   "nbconvert_exporter": "python",
   "pygments_lexer": "ipython3",
   "version": "3.9.12"
  }
 },
 "nbformat": 4,
 "nbformat_minor": 5
}
