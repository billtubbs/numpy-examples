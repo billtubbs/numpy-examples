{
 "cells": [
  {
   "cell_type": "markdown",
   "id": "599b9c95",
   "metadata": {},
   "source": [
    "# Find sub-array in another array\n",
    "\n",
    "based on this Stackoverflow question:\n",
    "- https://stackoverflow.com/q/73522465/1609514"
   ]
  },
  {
   "cell_type": "markdown",
   "id": "e74c905e",
   "metadata": {},
   "source": [
    "## Solution for 2D arrays"
   ]
  },
  {
   "cell_type": "code",
   "execution_count": 1,
   "id": "ac320820",
   "metadata": {},
   "outputs": [],
   "source": [
    "# %load find_array_in_array_2d.py\n",
    "import numpy as np\n",
    "\n",
    "\n",
    "def find_array_in_array_2d(ar, ar2):\n",
    "\n",
    "    # Find all matches with first element of ar2\n",
    "    match_idx = np.nonzero(ar[:-ar2.shape[0]+1, :-ar2.shape[1]+1] == ar2[0, 0])\n",
    "\n",
    "    # Check remaining indices of ar2\n",
    "    for i, j in list(np.ndindex(ar2.shape))[1:]:\n",
    "\n",
    "        # End if no possible matches left\n",
    "        if len(match_idx[0]) == 0:\n",
    "            break\n",
    "\n",
    "        # Index into ar offset by i, j\n",
    "        nz2 = (match_idx[0] + i, match_idx[1] + j)\n",
    "\n",
    "        # Find remaining matches with selected element\n",
    "        to_keep = np.nonzero(ar[nz2] == ar2[i, j])[0]\n",
    "        match_idx = match_idx[0][to_keep], match_idx[1][to_keep]\n",
    "\n",
    "    return match_idx"
   ]
  },
  {
   "cell_type": "code",
   "execution_count": 2,
   "id": "e0e1a7a0",
   "metadata": {},
   "outputs": [],
   "source": [
    "# Example from stackoverflow question\n",
    "ar = np.array([[1, 1, 1, 1, 1, 1, 1, 1, 1, 1],\n",
    " [1, 1, 1, 1, 1, 1, 1, 1, 1, 1],\n",
    " [1, 1, 0, 1, 1, 0, 1, 1, 0, 1],\n",
    " [1, 1, 0, 1, 1, 0, 1, 1, 0, 1],\n",
    " [1, 1, 1, 1, 0, 0, 1, 1, 1, 1],\n",
    " [1, 1, 1, 1, 0, 0, 1, 1, 1, 0],\n",
    " [1, 1, 1, 1, 1, 0, 1, 1, 1, 1],\n",
    " [1, 1, 1, 1, 0, 0, 1, 1, 1, 1],\n",
    " [1, 1, 0, 1, 1, 0, 1, 1, 1, 2],\n",
    " [1, 1, 0, 1, 1, 0, 1, 1, 1, 1]]\n",
    ")\n",
    "\n",
    "ar2 = np.zeros((2,2))"
   ]
  },
  {
   "cell_type": "code",
   "execution_count": 3,
   "id": "37fea41b",
   "metadata": {},
   "outputs": [
    {
     "data": {
      "text/plain": [
       "(array([4]), array([4]))"
      ]
     },
     "execution_count": 3,
     "metadata": {},
     "output_type": "execute_result"
    }
   ],
   "source": [
    "match_idx = find_array_in_array_2d(ar, ar2)\n",
    "match_idx"
   ]
  },
  {
   "cell_type": "code",
   "execution_count": 4,
   "id": "28fd9c97",
   "metadata": {},
   "outputs": [],
   "source": [
    "assert(match_idx == (np.array([4]), np.array([4])))"
   ]
  },
  {
   "cell_type": "code",
   "execution_count": 5,
   "id": "7677ccf9",
   "metadata": {},
   "outputs": [
    {
     "data": {
      "text/plain": [
       "(array([[ 3,  6,  5,  9,  9,  0,  3,  9, 10, 10],\n",
       "        [ 2,  3,  9,  7, 10, 10,  7,  1, 10, 10],\n",
       "        [ 9,  2, 10, 10, 10, 10, 10, 10,  2,  4],\n",
       "        [ 9, 10, 10, 10, 10,  3, 10, 10, 10, 10],\n",
       "        [ 6, 10, 10, 10, 10,  9, 10, 10, 10, 10],\n",
       "        [10, 10,  6,  5,  3,  4, 10, 10, 10, 10],\n",
       "        [10, 10,  3,  8,  6,  9, 10, 10,  3,  3],\n",
       "        [10, 10, 10,  3,  3,  1,  7,  1,  4,  3],\n",
       "        [10, 10, 10,  3,  8,  1,  4,  1,  3,  4],\n",
       "        [ 4, 10, 10,  1,  6,  9,  9,  4,  3,  5]]),\n",
       " array([[10, 10],\n",
       "        [10, 10]]))"
      ]
     },
     "execution_count": 5,
     "metadata": {},
     "output_type": "execute_result"
    }
   ],
   "source": [
    "# Test with a random 2d array\n",
    "shape = (10, 10)\n",
    "ar = np.random.randint(10, size=np.product(shape)).reshape(shape)\n",
    "for _ in range(15):\n",
    "    i, j = np.random.randint(9, size=2)\n",
    "    ar[i:i+2, j:j+2] = 10\n",
    "ar2 = 10 * np.ones((2, 2)).astype(int)\n",
    "\n",
    "ar, ar2"
   ]
  },
  {
   "cell_type": "code",
   "execution_count": 6,
   "id": "9c75b984",
   "metadata": {},
   "outputs": [
    {
     "data": {
      "text/plain": [
       "(array([0, 1, 2, 2, 2, 3, 3, 3, 3, 3, 3, 4, 4, 4, 5, 5, 6, 7, 7, 8]),\n",
       " array([8, 4, 2, 3, 6, 1, 2, 3, 6, 7, 8, 6, 7, 8, 0, 6, 0, 0, 1, 1]))"
      ]
     },
     "execution_count": 6,
     "metadata": {},
     "output_type": "execute_result"
    }
   ],
   "source": [
    "match_idx = find_array_in_array_2d(ar, ar2)\n",
    "match_idx"
   ]
  },
  {
   "cell_type": "code",
   "execution_count": 7,
   "id": "ac92701d",
   "metadata": {},
   "outputs": [],
   "source": [
    "# Check these are correct\n",
    "checks = [np.array_equal(ar[i:i+2, j:j+2], ar2) for i, j in zip(*match_idx)]\n",
    "assert(all(checks))"
   ]
  },
  {
   "cell_type": "markdown",
   "id": "24500d0b",
   "metadata": {},
   "source": [
    "## N-dimensional version"
   ]
  },
  {
   "cell_type": "code",
   "execution_count": 8,
   "id": "55d42ef7",
   "metadata": {},
   "outputs": [],
   "source": [
    "from functools import reduce\n",
    "\n",
    "def find_array_in_array(ar, ar2):\n",
    "\n",
    "    # Find all matches with first element of ar2\n",
    "    slices = tuple(slice(None, -s + 1) for s in ar2.shape)\n",
    "    match_idx = np.nonzero(ar[slices] == ar2.flat[0])\n",
    "    \n",
    "    # ar[:-ar2.shape[0]:, :-ar2.shape[1]]\n",
    "\n",
    "    # Check remaining indices of ar2\n",
    "    for idx in list(np.ndindex(ar2.shape))[1:]:\n",
    "\n",
    "        if len(match_idx[0]) == 0:\n",
    "            break\n",
    "\n",
    "        # Index into ar offset by idx\n",
    "        nz2 = tuple(m + i for m, i in zip(match_idx, idx))\n",
    "\n",
    "        # Find remaining matches with selected element\n",
    "        to_keep = np.nonzero(ar[nz2] == ar2[idx])[0]\n",
    "        match_idx = tuple(m[to_keep] for m in match_idx)\n",
    "\n",
    "    return match_idx\n",
    "\n",
    "# 1d\n",
    "assert(find_array_in_array(np.arange(0, 10), np.array([3, 4])) == (3,))\n",
    "assert(find_array_in_array(np.arange(0, 10), np.array([4, -1]))[0].shape == (0,))"
   ]
  },
  {
   "cell_type": "code",
   "execution_count": 9,
   "id": "102b2259",
   "metadata": {},
   "outputs": [
    {
     "data": {
      "text/plain": [
       "(array([[ 4,  1, 10, 10, 10, 10,  5,  8,  9,  9],\n",
       "        [ 9,  6, 10, 10, 10, 10, 10, 10, 10, 10],\n",
       "        [ 4,  6,  7,  9,  8, 10, 10, 10, 10, 10],\n",
       "        [ 6,  8,  7,  1, 10, 10, 10, 10,  3,  5],\n",
       "        [10, 10,  2, 10, 10, 10, 10, 10, 10, 10],\n",
       "        [10, 10, 10, 10, 10, 10, 10,  2, 10, 10],\n",
       "        [ 9,  4, 10, 10,  9, 10, 10, 10, 10, 10],\n",
       "        [ 0,  1,  8, 10, 10,  4,  5, 10, 10, 10],\n",
       "        [ 5,  0,  9, 10, 10,  3,  2,  8,  7,  6],\n",
       "        [ 2,  5,  9,  6,  6,  0,  1,  0,  9,  2]]),\n",
       " array([[10, 10],\n",
       "        [10, 10]]))"
      ]
     },
     "execution_count": 9,
     "metadata": {},
     "output_type": "execute_result"
    }
   ],
   "source": [
    "# Test with a random 2d array\n",
    "shape = (10, 10)\n",
    "ar = np.random.randint(10, size=np.product(shape)).reshape(shape)\n",
    "for _ in range(15):\n",
    "    i, j = np.random.randint(9, size=2)\n",
    "    ar[i:i+2, j:j+2] = 10\n",
    "ar2 = 10 * np.ones((2, 2)).astype(int)\n",
    "\n",
    "ar, ar2"
   ]
  },
  {
   "cell_type": "code",
   "execution_count": 10,
   "id": "883c3997",
   "metadata": {},
   "outputs": [
    {
     "data": {
      "text/plain": [
       "(array([0, 0, 0, 1, 1, 1, 1, 2, 2, 3, 3, 3, 4, 4, 4, 4, 4, 5, 5, 5, 6, 6,\n",
       "        7]),\n",
       " array([2, 3, 4, 5, 6, 7, 8, 5, 6, 4, 5, 6, 0, 3, 4, 5, 8, 2, 5, 8, 7, 8,\n",
       "        3]))"
      ]
     },
     "execution_count": 10,
     "metadata": {},
     "output_type": "execute_result"
    }
   ],
   "source": [
    "match_idx = find_array_in_array(ar, ar2)\n",
    "match_idx"
   ]
  },
  {
   "cell_type": "code",
   "execution_count": 11,
   "id": "c5c13d37",
   "metadata": {},
   "outputs": [],
   "source": [
    "# Check these are correct\n",
    "checks = [np.array_equal(ar[i:i+2, j:j+2], ar2) for i, j in zip(*match_idx)]\n",
    "assert(all(checks))"
   ]
  },
  {
   "cell_type": "code",
   "execution_count": 12,
   "id": "623b3bea",
   "metadata": {},
   "outputs": [],
   "source": [
    "# Test with a random 3d array\n",
    "shape = (10, 10, 10)\n",
    "ar = np.random.randint(10, size=np.product(shape)).reshape(shape)\n",
    "for _ in range(15):\n",
    "    i, j, k = np.random.randint(10, size=3)\n",
    "    ar[i:i+2, j:j+2, k:k+2] = 10\n",
    "ar2 = 10 * np.ones((2, 2, 2)).astype(int)"
   ]
  },
  {
   "cell_type": "code",
   "execution_count": 13,
   "id": "d0674514",
   "metadata": {},
   "outputs": [
    {
     "data": {
      "text/plain": [
       "(array([1, 2, 2, 3, 4, 4, 5, 7, 7, 8, 8]),\n",
       " array([6, 0, 4, 4, 5, 7, 8, 1, 5, 0, 7]),\n",
       " array([8, 5, 4, 1, 5, 6, 8, 6, 6, 5, 7]))"
      ]
     },
     "execution_count": 13,
     "metadata": {},
     "output_type": "execute_result"
    }
   ],
   "source": [
    "match_idx = find_array_in_array(ar, ar2)\n",
    "match_idx"
   ]
  },
  {
   "cell_type": "code",
   "execution_count": 14,
   "id": "750db15a",
   "metadata": {},
   "outputs": [],
   "source": [
    "# Check these are correct\n",
    "checks = [np.array_equal(ar[i:i+2, j:j+2, k:k+2], ar2) for i, j, k in zip(*match_idx)]\n",
    "assert(all(checks))"
   ]
  },
  {
   "cell_type": "markdown",
   "id": "c8d809c9",
   "metadata": {},
   "source": [
    "## Solution using tools from Scikit-Image"
   ]
  },
  {
   "cell_type": "code",
   "execution_count": 15,
   "id": "6f5edf6f",
   "metadata": {},
   "outputs": [],
   "source": [
    "from skimage.util import view_as_windows\n",
    "\n",
    "def find_array_in_array_2d_ski(ar, ar2):\n",
    "    view_ = view_as_windows(ar, ar2.shape)\n",
    "    res_temp = np.all((view_ == ar2[None, ...]), (-2, -1))\n",
    "    return np.nonzero(res_temp)\n",
    "\n",
    "# 1d\n",
    "assert(find_array_in_array(np.arange(0, 10), np.array([3, 4])) == (3,))\n",
    "assert(find_array_in_array(np.arange(0, 10), np.array([4, -1]))[0].shape == (0,))"
   ]
  },
  {
   "cell_type": "code",
   "execution_count": 16,
   "id": "a8d36dd0",
   "metadata": {},
   "outputs": [],
   "source": [
    "# Test with a random 2d array\n",
    "shape = (10, 10)\n",
    "ar = np.random.randint(10, size=np.product(shape)).reshape(shape)\n",
    "for _ in range(15):\n",
    "    i, j = np.random.randint(9, size=2)\n",
    "    ar[i:i+2, j:j+2] = 10\n",
    "ar2 = 10 * np.ones((2, 2)).astype(int)"
   ]
  },
  {
   "cell_type": "code",
   "execution_count": 17,
   "id": "94b9d1af",
   "metadata": {},
   "outputs": [
    {
     "data": {
      "text/plain": [
       "(array([0, 0, 1, 2, 2, 2, 2, 2, 3, 3, 5, 6, 6, 6, 6, 7, 8]),\n",
       " array([2, 3, 2, 2, 5, 6, 7, 8, 3, 8, 2, 0, 1, 2, 6, 2, 4]))"
      ]
     },
     "execution_count": 17,
     "metadata": {},
     "output_type": "execute_result"
    }
   ],
   "source": [
    "match_idx = find_array_in_array(ar, ar2)\n",
    "match_idx"
   ]
  },
  {
   "cell_type": "code",
   "execution_count": 18,
   "id": "1699ada3",
   "metadata": {},
   "outputs": [],
   "source": [
    "# Check these are correct\n",
    "checks = [np.array_equal(ar[i:i+2, j:j+2], ar2) for i, j in zip(*match_idx)]\n",
    "assert(all(checks))"
   ]
  },
  {
   "cell_type": "code",
   "execution_count": 19,
   "id": "33f78cde",
   "metadata": {},
   "outputs": [],
   "source": [
    "# Test with a random 3d array\n",
    "shape = (10, 10, 10)\n",
    "ar = np.random.randint(10, size=np.product(shape)).reshape(shape)\n",
    "for _ in range(15):\n",
    "    i, j, k = np.random.randint(10, size=3)\n",
    "    ar[i:i+2, j:j+2, k:k+2] = 10\n",
    "ar2 = 10 * np.ones((2, 2, 2)).astype(int)\n",
    "\n",
    "match_idx = find_array_in_array(ar, ar2)\n",
    "# Check these are correct\n",
    "checks = [np.array_equal(ar[i:i+2, j:j+2, k:k+2], ar2) for i, j, k in zip(*match_idx)]\n",
    "assert(all(checks))"
   ]
  },
  {
   "cell_type": "markdown",
   "id": "bc92b213",
   "metadata": {},
   "source": [
    "## Speed tests"
   ]
  },
  {
   "cell_type": "code",
   "execution_count": 20,
   "id": "d3d0b18f",
   "metadata": {},
   "outputs": [],
   "source": [
    "# Test with a large random 2d array\n",
    "shape = (1000, 1000)\n",
    "ar = np.random.randint(50, size=np.product(shape)).reshape(shape)\n",
    "for _ in range(50):\n",
    "    i, j = np.random.randint(9, size=2)\n",
    "    ar[i:i+5, j:j+5] = 50\n",
    "ar2 = 50 * np.ones((5, 5)).astype(int)"
   ]
  },
  {
   "cell_type": "code",
   "execution_count": 21,
   "id": "6cb0176e",
   "metadata": {},
   "outputs": [],
   "source": [
    "assert(np.array_equal(\n",
    "    find_array_in_array_2d(ar, ar2),\n",
    "    find_array_in_array(ar, ar2)\n",
    "))"
   ]
  },
  {
   "cell_type": "code",
   "execution_count": 22,
   "id": "bc26788a",
   "metadata": {},
   "outputs": [],
   "source": [
    "assert(np.array_equal(\n",
    "    find_array_in_array_2d(ar, ar2),\n",
    "    find_array_in_array_2d_ski(ar, ar2)\n",
    "))"
   ]
  },
  {
   "cell_type": "code",
   "execution_count": 23,
   "id": "36c807bc",
   "metadata": {},
   "outputs": [
    {
     "name": "stdout",
     "output_type": "stream",
     "text": [
      "5.56 ms ± 515 µs per loop (mean ± std. dev. of 7 runs, 100 loops each)\n"
     ]
    }
   ],
   "source": [
    "%timeit find_array_in_array_2d(ar, ar2)"
   ]
  },
  {
   "cell_type": "code",
   "execution_count": 24,
   "id": "d011af57",
   "metadata": {},
   "outputs": [
    {
     "name": "stdout",
     "output_type": "stream",
     "text": [
      "5.1 ms ± 91.4 µs per loop (mean ± std. dev. of 7 runs, 100 loops each)\n"
     ]
    }
   ],
   "source": [
    "%timeit find_array_in_array(ar, ar2)"
   ]
  },
  {
   "cell_type": "code",
   "execution_count": 25,
   "id": "4b1c65de",
   "metadata": {},
   "outputs": [
    {
     "name": "stdout",
     "output_type": "stream",
     "text": [
      "200 ms ± 3.92 ms per loop (mean ± std. dev. of 7 runs, 10 loops each)\n"
     ]
    }
   ],
   "source": [
    "%timeit find_array_in_array_2d_ski(ar, ar2)"
   ]
  },
  {
   "cell_type": "code",
   "execution_count": null,
   "id": "de5acd09",
   "metadata": {},
   "outputs": [],
   "source": []
  },
  {
   "cell_type": "code",
   "execution_count": null,
   "id": "146cc293",
   "metadata": {},
   "outputs": [],
   "source": []
  },
  {
   "cell_type": "code",
   "execution_count": null,
   "id": "be991184",
   "metadata": {},
   "outputs": [],
   "source": []
  },
  {
   "cell_type": "code",
   "execution_count": null,
   "id": "cfe4d42e",
   "metadata": {},
   "outputs": [],
   "source": []
  }
 ],
 "metadata": {
  "kernelspec": {
   "display_name": "torch",
   "language": "python",
   "name": "torch"
  },
  "language_info": {
   "codemirror_mode": {
    "name": "ipython",
    "version": 3
   },
   "file_extension": ".py",
   "mimetype": "text/x-python",
   "name": "python",
   "nbconvert_exporter": "python",
   "pygments_lexer": "ipython3",
   "version": "3.9.12"
  }
 },
 "nbformat": 4,
 "nbformat_minor": 5
}
