{
 "cells": [
  {
   "cell_type": "markdown",
   "id": "599b9c95",
   "metadata": {},
   "source": [
    "# Find sub-array in another array\n",
    "\n",
    "based on this Stackoverflow question:\n",
    "- https://stackoverflow.com/q/73522465/1609514"
   ]
  },
  {
   "cell_type": "markdown",
   "id": "e74c905e",
   "metadata": {},
   "source": [
    "## Solution for 2D arrays"
   ]
  },
  {
   "cell_type": "code",
   "execution_count": 1,
   "id": "ac320820",
   "metadata": {},
   "outputs": [],
   "source": [
    "# %load find_array_in_array_2d.py\n",
    "import numpy as np\n",
    "\n",
    "\n",
    "def find_array_in_array_2d(ar, ar2):\n",
    "\n",
    "    # Find all matches with first element of ar2\n",
    "    match_idx = np.nonzero(ar[:-ar2.shape[0]+1, :-ar2.shape[1]+1] == ar2[0, 0])\n",
    "\n",
    "    # Check remaining indices of ar2\n",
    "    for i, j in list(np.ndindex(ar2.shape))[1:]:\n",
    "\n",
    "        # End if no possible matches left\n",
    "        if len(match_idx[0]) == 0:\n",
    "            break\n",
    "\n",
    "        # Index into ar offset by i, j\n",
    "        nz2 = (match_idx[0] + i, match_idx[1] + j)\n",
    "\n",
    "        # Find remaining matches with selected element\n",
    "        to_keep = np.nonzero(ar[nz2] == ar2[i, j])[0]\n",
    "        match_idx = match_idx[0][to_keep], match_idx[1][to_keep]\n",
    "\n",
    "    return match_idx"
   ]
  },
  {
   "cell_type": "code",
   "execution_count": 2,
   "id": "e0e1a7a0",
   "metadata": {},
   "outputs": [],
   "source": [
    "# Example from stackoverflow question\n",
    "ar = np.array([[1, 1, 1, 1, 1, 1, 1, 1, 1, 1],\n",
    " [1, 1, 1, 1, 1, 1, 1, 1, 1, 1],\n",
    " [1, 1, 0, 1, 1, 0, 1, 1, 0, 1],\n",
    " [1, 1, 0, 1, 1, 0, 1, 1, 0, 1],\n",
    " [1, 1, 1, 1, 0, 0, 1, 1, 1, 1],\n",
    " [1, 1, 1, 1, 0, 0, 1, 1, 1, 0],\n",
    " [1, 1, 1, 1, 1, 0, 1, 1, 1, 1],\n",
    " [1, 1, 1, 1, 0, 0, 1, 1, 1, 1],\n",
    " [1, 1, 0, 1, 1, 0, 1, 1, 1, 2],\n",
    " [1, 1, 0, 1, 1, 0, 1, 1, 1, 1]]\n",
    ")\n",
    "\n",
    "ar2 = np.zeros((2,2))"
   ]
  },
  {
   "cell_type": "code",
   "execution_count": 3,
   "id": "37fea41b",
   "metadata": {},
   "outputs": [
    {
     "data": {
      "text/plain": [
       "(array([4]), array([4]))"
      ]
     },
     "execution_count": 3,
     "metadata": {},
     "output_type": "execute_result"
    }
   ],
   "source": [
    "match_idx = find_array_in_array_2d(ar, ar2)\n",
    "match_idx"
   ]
  },
  {
   "cell_type": "code",
   "execution_count": 4,
   "id": "28fd9c97",
   "metadata": {},
   "outputs": [],
   "source": [
    "assert(match_idx == (np.array([4]), np.array([4])))"
   ]
  },
  {
   "cell_type": "code",
   "execution_count": 5,
   "id": "7677ccf9",
   "metadata": {},
   "outputs": [
    {
     "data": {
      "text/plain": [
       "(array([[ 7,  6, 10, 10, 10, 10, 10, 10,  4,  9],\n",
       "        [ 8, 10, 10, 10, 10, 10, 10, 10,  7,  1],\n",
       "        [ 6, 10, 10,  5, 10, 10,  7,  1,  5,  9],\n",
       "        [ 8,  1,  5,  9,  4,  0,  0,  7,  8,  3],\n",
       "        [10, 10,  0,  5,  2,  3,  8,  5,  5,  3],\n",
       "        [10, 10,  8,  6, 10, 10, 10, 10,  9,  4],\n",
       "        [ 7,  4, 10, 10, 10, 10, 10, 10, 10,  1],\n",
       "        [10, 10, 10, 10,  6,  4, 10, 10, 10,  3],\n",
       "        [10, 10,  5,  4,  3,  3, 10, 10,  8,  9],\n",
       "        [ 1,  5,  1,  9,  0,  0, 10, 10,  9,  5]]),\n",
       " array([[10, 10],\n",
       "        [10, 10]]))"
      ]
     },
     "execution_count": 5,
     "metadata": {},
     "output_type": "execute_result"
    }
   ],
   "source": [
    "# Test with a random 2d array\n",
    "shape = (10, 10)\n",
    "ar = np.random.randint(10, size=np.product(shape)).reshape(shape)\n",
    "for _ in range(15):\n",
    "    i, j = np.random.randint(9, size=2)\n",
    "    ar[i:i+2, j:j+2] = 10\n",
    "ar2 = 10 * np.ones((2, 2)).astype(int)\n",
    "\n",
    "ar, ar2"
   ]
  },
  {
   "cell_type": "code",
   "execution_count": 6,
   "id": "9c75b984",
   "metadata": {},
   "outputs": [
    {
     "data": {
      "text/plain": [
       "(array([0, 0, 0, 0, 0, 1, 1, 4, 5, 5, 5, 6, 6, 6, 7, 7, 8]),\n",
       " array([2, 3, 4, 5, 6, 1, 4, 0, 4, 5, 6, 2, 6, 7, 0, 6, 6]))"
      ]
     },
     "execution_count": 6,
     "metadata": {},
     "output_type": "execute_result"
    }
   ],
   "source": [
    "match_idx = find_array_in_array_2d(ar, ar2)\n",
    "match_idx"
   ]
  },
  {
   "cell_type": "code",
   "execution_count": 7,
   "id": "ac92701d",
   "metadata": {},
   "outputs": [],
   "source": [
    "# Check these are correct\n",
    "checks = [np.array_equal(ar[i:i+2, j:j+2], ar2) for i, j in zip(*match_idx)]\n",
    "assert(all(checks))"
   ]
  },
  {
   "cell_type": "markdown",
   "id": "24500d0b",
   "metadata": {},
   "source": [
    "## N-dimensional version"
   ]
  },
  {
   "cell_type": "code",
   "execution_count": 8,
   "id": "55d42ef7",
   "metadata": {},
   "outputs": [],
   "source": [
    "from functools import reduce\n",
    "\n",
    "def find_array_in_array(ar, ar2):\n",
    "\n",
    "    # Find all matches with first element of ar2\n",
    "    slices = tuple(slice(None, -s + 1) for s in ar2.shape)\n",
    "    match_idx = np.nonzero(ar[slices] == ar2.flat[0])\n",
    "    \n",
    "    # ar[:-ar2.shape[0]:, :-ar2.shape[1]]\n",
    "\n",
    "    # Check remaining indices of ar2\n",
    "    for idx in list(np.ndindex(ar2.shape))[1:]:\n",
    "\n",
    "        if len(match_idx[0]) == 0:\n",
    "            break\n",
    "\n",
    "        # Index into ar offset by idx\n",
    "        nz2 = tuple(m + i for m, i in zip(match_idx, idx))\n",
    "\n",
    "        # Find remaining matches with selected element\n",
    "        to_keep = np.nonzero(ar[nz2] == ar2[idx])[0]\n",
    "        match_idx = tuple(m[to_keep] for m in match_idx)\n",
    "\n",
    "    return match_idx\n",
    "\n",
    "# 1d\n",
    "assert(find_array_in_array(np.arange(0, 10), np.array([3, 4])) == (3,))\n",
    "assert(find_array_in_array(np.arange(0, 10), np.array([4, -1]))[0].shape == (0,))"
   ]
  },
  {
   "cell_type": "code",
   "execution_count": 9,
   "id": "102b2259",
   "metadata": {},
   "outputs": [
    {
     "data": {
      "text/plain": [
       "(array([[10, 10,  1,  7, 10, 10, 10,  4,  1,  0],\n",
       "        [10, 10,  9,  2, 10, 10, 10,  8,  1,  0],\n",
       "        [10, 10,  0,  9, 10, 10,  0,  5, 10, 10],\n",
       "        [10, 10, 10, 10,  8,  9,  5, 10, 10, 10],\n",
       "        [ 8,  2, 10, 10,  7,  2,  0, 10, 10,  7],\n",
       "        [ 6,  0, 10, 10,  7,  2,  3, 10, 10,  3],\n",
       "        [10, 10, 10, 10,  9,  0,  0,  6,  9,  6],\n",
       "        [10, 10,  0,  2,  6,  9,  9,  9, 10, 10],\n",
       "        [ 6,  0,  7,  6,  0, 10, 10,  5, 10, 10],\n",
       "        [ 8,  0,  5,  1,  2, 10, 10,  0,  2,  6]]),\n",
       " array([[10, 10],\n",
       "        [10, 10]]))"
      ]
     },
     "execution_count": 9,
     "metadata": {},
     "output_type": "execute_result"
    }
   ],
   "source": [
    "# Test with a random 2d array\n",
    "shape = (10, 10)\n",
    "ar = np.random.randint(10, size=np.product(shape)).reshape(shape)\n",
    "for _ in range(15):\n",
    "    i, j = np.random.randint(9, size=2)\n",
    "    ar[i:i+2, j:j+2] = 10\n",
    "ar2 = 10 * np.ones((2, 2)).astype(int)\n",
    "\n",
    "ar, ar2"
   ]
  },
  {
   "cell_type": "code",
   "execution_count": 10,
   "id": "883c3997",
   "metadata": {},
   "outputs": [
    {
     "data": {
      "text/plain": [
       "(array([0, 0, 0, 1, 1, 2, 2, 3, 3, 4, 4, 5, 6, 7, 8]),\n",
       " array([0, 4, 5, 0, 4, 0, 8, 2, 7, 2, 7, 2, 0, 8, 5]))"
      ]
     },
     "execution_count": 10,
     "metadata": {},
     "output_type": "execute_result"
    }
   ],
   "source": [
    "match_idx = find_array_in_array(ar, ar2)\n",
    "match_idx"
   ]
  },
  {
   "cell_type": "code",
   "execution_count": 11,
   "id": "c5c13d37",
   "metadata": {},
   "outputs": [],
   "source": [
    "# Check these are correct\n",
    "checks = [np.array_equal(ar[i:i+2, j:j+2], ar2) for i, j in zip(*match_idx)]\n",
    "assert(all(checks))"
   ]
  },
  {
   "cell_type": "code",
   "execution_count": 12,
   "id": "623b3bea",
   "metadata": {},
   "outputs": [],
   "source": [
    "# Test with a random 3d array\n",
    "shape = (10, 10, 10)\n",
    "ar = np.random.randint(10, size=np.product(shape)).reshape(shape)\n",
    "for _ in range(15):\n",
    "    i, j, k = np.random.randint(10, size=3)\n",
    "    ar[i:i+2, j:j+2, k:k+2] = 10\n",
    "ar2 = 10 * np.ones((2, 2, 2)).astype(int)"
   ]
  },
  {
   "cell_type": "code",
   "execution_count": 13,
   "id": "d0674514",
   "metadata": {},
   "outputs": [
    {
     "data": {
      "text/plain": [
       "(array([0, 1, 1, 1, 2, 3, 5, 6, 6, 6, 6, 8]),\n",
       " array([1, 0, 4, 6, 6, 5, 1, 3, 4, 7, 8, 2]),\n",
       " array([1, 5, 1, 6, 5, 4, 7, 5, 8, 1, 8, 0]))"
      ]
     },
     "execution_count": 13,
     "metadata": {},
     "output_type": "execute_result"
    }
   ],
   "source": [
    "match_idx = find_array_in_array(ar, ar2)\n",
    "match_idx"
   ]
  },
  {
   "cell_type": "code",
   "execution_count": 14,
   "id": "750db15a",
   "metadata": {},
   "outputs": [],
   "source": [
    "# Check these are correct\n",
    "checks = [np.array_equal(ar[i:i+2, j:j+2, k:k+2], ar2) for i, j, k in zip(*match_idx)]\n",
    "assert(all(checks))"
   ]
  },
  {
   "cell_type": "code",
   "execution_count": null,
   "id": "73980828",
   "metadata": {},
   "outputs": [],
   "source": []
  },
  {
   "cell_type": "code",
   "execution_count": null,
   "id": "6f5edf6f",
   "metadata": {},
   "outputs": [],
   "source": []
  },
  {
   "cell_type": "code",
   "execution_count": null,
   "id": "a8d36dd0",
   "metadata": {},
   "outputs": [],
   "source": []
  },
  {
   "cell_type": "code",
   "execution_count": null,
   "id": "94b9d1af",
   "metadata": {},
   "outputs": [],
   "source": []
  }
 ],
 "metadata": {
  "kernelspec": {
   "display_name": "torch",
   "language": "python",
   "name": "torch"
  },
  "language_info": {
   "codemirror_mode": {
    "name": "ipython",
    "version": 3
   },
   "file_extension": ".py",
   "mimetype": "text/x-python",
   "name": "python",
   "nbconvert_exporter": "python",
   "pygments_lexer": "ipython3",
   "version": "3.9.12"
  }
 },
 "nbformat": 4,
 "nbformat_minor": 5
}
