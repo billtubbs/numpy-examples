{
 "cells": [
  {
   "cell_type": "markdown",
   "metadata": {},
   "source": [
    "## Trim Outer Zeros from 2D or 3D Numpy Array\n",
    "\n",
    "- https://stackoverflow.com/questions/55917328/numpy-trim-zeros-in-2d-or-3d/65547931#65547931\n",
    "- https://stackoverflow.com/questions/65547529/how-to-remove-surrounding-empty-data-from-3d-array#65547738"
   ]
  },
  {
   "cell_type": "code",
   "execution_count": 1,
   "metadata": {},
   "outputs": [],
   "source": [
    "import numpy as np"
   ]
  },
  {
   "cell_type": "markdown",
   "metadata": {},
   "source": [
    "Numpy function [`trim_zeros`](https://numpy.org/doc/stable/reference/generated/numpy.trim_zeros.html) only works on 1-D arrays"
   ]
  },
  {
   "cell_type": "code",
   "execution_count": 2,
   "metadata": {},
   "outputs": [
    {
     "name": "stdout",
     "output_type": "stream",
     "text": [
      "Help on function trim_zeros in module numpy:\n",
      "\n",
      "trim_zeros(filt, trim='fb')\n",
      "    Trim the leading and/or trailing zeros from a 1-D array or sequence.\n",
      "    \n",
      "    Parameters\n",
      "    ----------\n",
      "    filt : 1-D array or sequence\n",
      "        Input array.\n",
      "    trim : str, optional\n",
      "        A string with 'f' representing trim from front and 'b' to trim from\n",
      "        back. Default is 'fb', trim zeros from both front and back of the\n",
      "        array.\n",
      "    \n",
      "    Returns\n",
      "    -------\n",
      "    trimmed : 1-D array or sequence\n",
      "        The result of trimming the input. The input data type is preserved.\n",
      "    \n",
      "    Examples\n",
      "    --------\n",
      "    >>> a = np.array((0, 0, 0, 1, 2, 3, 0, 2, 1, 0))\n",
      "    >>> np.trim_zeros(a)\n",
      "    array([1, 2, 3, 0, 2, 1])\n",
      "    \n",
      "    >>> np.trim_zeros(a, 'b')\n",
      "    array([0, 0, 0, ..., 0, 2, 1])\n",
      "    \n",
      "    The input data type is preserved, list/tuple in means list/tuple out.\n",
      "    \n",
      "    >>> np.trim_zeros([0, 1, 2, 0])\n",
      "    [1, 2]\n",
      "\n"
     ]
    }
   ],
   "source": [
    "help(np.trim_zeros)"
   ]
  },
  {
   "cell_type": "markdown",
   "metadata": {},
   "source": [
    "Example for a 2-D array"
   ]
  },
  {
   "cell_type": "code",
   "execution_count": 13,
   "metadata": {},
   "outputs": [
    {
     "data": {
      "text/plain": [
       "(array([1, 2, 2, 2, 3, 3, 4, 4, 4, 5, 5]),\n",
       " array([3, 1, 2, 3, 1, 3, 0, 1, 3, 0, 3]))"
      ]
     },
     "execution_count": 13,
     "metadata": {},
     "output_type": "execute_result"
    }
   ],
   "source": [
    "# Indices of all nonzero elements\n",
    "nz = np.nonzero(arr)\n",
    "nz"
   ]
  },
  {
   "cell_type": "code",
   "execution_count": 14,
   "metadata": {},
   "outputs": [
    {
     "data": {
      "text/plain": [
       "array([[0, 0, 0, 1],\n",
       "       [0, 1, 1, 1],\n",
       "       [0, 1, 0, 1],\n",
       "       [1, 1, 0, 1],\n",
       "       [1, 0, 0, 1]])"
      ]
     },
     "execution_count": 14,
     "metadata": {},
     "output_type": "execute_result"
    }
   ],
   "source": [
    "arr_trimmed = arr[nz[0].min():nz[0].max()+1, nz[1].min():nz[1].max()+1]\n",
    "arr_trimmed"
   ]
  },
  {
   "cell_type": "code",
   "execution_count": 16,
   "metadata": {},
   "outputs": [],
   "source": [
    "nz = np.nonzero(arr)\n",
    "arr_trimmed = arr[nz[0].min():nz[0].max()+1,\n",
    "                  nz[1].min():nz[1].max()+1]\n",
    "\n",
    "assert np.array_equal(arr_trimmed, [\n",
    "    [0, 0, 0, 1],\n",
    "    [0, 1, 1, 1],\n",
    "    [0, 1, 0, 1],\n",
    "    [1, 1, 0, 1],\n",
    "    [1, 0, 0, 1]\n",
    "])"
   ]
  },
  {
   "cell_type": "markdown",
   "metadata": {},
   "source": [
    "This can be generalized to N-dimensions as follows:"
   ]
  },
  {
   "cell_type": "code",
   "execution_count": 17,
   "metadata": {},
   "outputs": [],
   "source": [
    "def trim_zeros(arr):\n",
    "    slices = tuple(slice(min(idx), max(idx)+1)\n",
    "                   for idx in np.nonzero(arr))\n",
    "    return arr[slices]\n",
    "\n",
    "test = np.zeros((5,5,5,5))\n",
    "test[1:3,1:3,1:3,1:3] = 1\n",
    "trimmed_array = trim_zeros(test)\n",
    "assert trimmed_array.shape == (2, 2, 2, 2)\n",
    "assert trimmed_array.sum() == 2**4"
   ]
  },
  {
   "cell_type": "code",
   "execution_count": 18,
   "metadata": {},
   "outputs": [],
   "source": [
    "assert np.array_equal(trim_zeros(arr), [\n",
    "    [0, 0, 0, 1],\n",
    "    [0, 1, 1, 1],\n",
    "    [0, 1, 0, 1],\n",
    "    [1, 1, 0, 1],\n",
    "    [1, 0, 0, 1]\n",
    "])"
   ]
  },
  {
   "cell_type": "code",
   "execution_count": null,
   "metadata": {},
   "outputs": [],
   "source": []
  },
  {
   "cell_type": "code",
   "execution_count": null,
   "metadata": {},
   "outputs": [],
   "source": []
  },
  {
   "cell_type": "code",
   "execution_count": null,
   "metadata": {},
   "outputs": [],
   "source": []
  }
 ],
 "metadata": {
  "kernelspec": {
   "display_name": "Python 3",
   "language": "python",
   "name": "python3"
  },
  "language_info": {
   "codemirror_mode": {
    "name": "ipython",
    "version": 3
   },
   "file_extension": ".py",
   "mimetype": "text/x-python",
   "name": "python",
   "nbconvert_exporter": "python",
   "pygments_lexer": "ipython3",
   "version": "3.7.6"
  }
 },
 "nbformat": 4,
 "nbformat_minor": 1
}
