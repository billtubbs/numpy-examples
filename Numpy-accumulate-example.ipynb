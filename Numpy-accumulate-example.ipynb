{
 "cells": [
  {
   "cell_type": "markdown",
   "metadata": {},
   "source": [
    "# Numpy Accumulate Example"
   ]
  },
  {
   "cell_type": "code",
   "execution_count": 1,
   "metadata": {},
   "outputs": [],
   "source": [
    "import numpy as np"
   ]
  },
  {
   "cell_type": "markdown",
   "metadata": {},
   "source": [
    "## `numpy.ufunc.accumulate`\n",
    "\n",
    "From the documentaiton:\n",
    "\n",
    "> `ufunc.accumulate(array, axis=0, dtype=None, out=None)`\n",
    ">\n",
    "> Accumulate the result of applying an operator to all elements of an array.\n",
    "> \n",
    "> For a one-dimensional array, accumulate produces results equivalent to:\n",
    "\n",
    "```\n",
    "r = np.empty(len(A))\n",
    "t = op.identity        # op = the ufunc being applied to A's  elements\n",
    "for i in range(len(A)):\n",
    "    t = op(t, A[i])\n",
    "    r[i] = t\n",
    "return r\n",
    "```\n",
    "\n",
    "You need to create a ufunc first. [This web page explains how](https://www.dmcdougall.co.uk/generic-accumulator-functions-using-numpy).\n",
    "\n",
    "This is the best option in the case of a recurrent function that takes two scalars as input and outputs one scaler."
   ]
  },
  {
   "cell_type": "markdown",
   "metadata": {},
   "source": [
    "## Example - Adding elements using accumulate"
   ]
  },
  {
   "cell_type": "code",
   "execution_count": 2,
   "metadata": {},
   "outputs": [],
   "source": [
    "import numpy as np\n",
    "\n",
    "def test_add(x, data):\n",
    "    return x + data\n",
    "\n",
    "assert test_add(1, 2) == 3\n",
    "assert test_add(2, 3) == 5\n",
    "\n",
    "# Make a Numpy ufunc from my test_add function\n",
    "test_add_ufunc = np.frompyfunc(test_add, 2, 1)\n",
    "\n",
    "assert test_add_ufunc(1, 2) == 3\n",
    "assert test_add_ufunc(2, 3) == 5\n",
    "assert np.all(test_add_ufunc([1, 2], [2, 3]) == [3, 5])\n",
    "\n",
    "data_sequence = np.array([1, 2, 3, 4])\n",
    "f_out = test_add_ufunc.accumulate(data_sequence, dtype=object)\n",
    "assert np.array_equal(f_out, [1, 3, 6, 10])"
   ]
  },
  {
   "cell_type": "markdown",
   "metadata": {},
   "source": [
    "## Computing a recurrent equation with multiple inputs\n",
    "\n",
    "See this Stackoverflow answer:\n",
    "- https://stackoverflow.com/a/62736143/1609514"
   ]
  },
  {
   "cell_type": "markdown",
   "metadata": {},
   "source": [
    "If we want to compute a recurrent equation that has more than one data input (and potentially more than one state variable too) this doesn't work.\n",
    "\n",
    "If you try using `ufunc.accumulate` you get\n",
    "\n",
    "```\n",
    "ValueError: accumulate only supported for binary functions\n",
    "```"
   ]
  },
  {
   "cell_type": "markdown",
   "metadata": {},
   "source": [
    "## Option 1 - Using Python's builtin accumulate function\n",
    "\n",
    "This solution isn't a vectorized calculation in numpy, but it does at least avoid a for loop."
   ]
  },
  {
   "cell_type": "code",
   "execution_count": 3,
   "metadata": {},
   "outputs": [
    {
     "name": "stdout",
     "output_type": "stream",
     "text": [
      "[2.         1.38       1.81303299 1.60614649 1.65039964 1.52579703\n",
      " 1.71878078 1.66109554 1.67839293 1.72152195 1.73091672]\n",
      "[2.         1.38       1.81303299 1.60614649 1.65039964 1.52579703\n",
      " 1.71878078 1.66109554 1.67839293 1.72152195 1.73091672]\n"
     ]
    }
   ],
   "source": [
    "from itertools import accumulate, chain\n",
    "\n",
    "\n",
    "def t_next(t, data):\n",
    "    Tm, tau = data  # Unpack more than one data input\n",
    "    return Tm + (t - Tm)**tau\n",
    "\n",
    "assert t_next(2, (0.38, 0)) == 1.38\n",
    "\n",
    "t0 = 2  # Initial t\n",
    "Tm_values = np.array([0.38, 0.88, 0.56, 0.67, 0.45, 0.98, 0.58, 0.72, 0.92, 0.82])\n",
    "tau_values = np.linspace(0, 0.9, 10)\n",
    "\n",
    "# Combine the input data into a 2D array\n",
    "data_sequence = np.vstack([Tm_values, tau_values]).T\n",
    "t_out = np.fromiter(accumulate(chain([t0], data_sequence), t_next), dtype=float)\n",
    "print(t_out)\n",
    "# [2.         1.38       1.81303299 1.60614649 1.65039964 1.52579703\n",
    "#  1.71878078 1.66109554 1.67839293 1.72152195 1.73091672]\n",
    "\n",
    "# Slightly more readable version possible in Python 3.8+\n",
    "t_out = np.fromiter(accumulate(data_sequence, t_next, initial=t0), dtype=float)\n",
    "print(t_out)\n",
    "# [2.         1.38       1.81303299 1.60614649 1.65039964 1.52579703\n",
    "#  1.71878078 1.66109554 1.67839293 1.72152195 1.73091672]"
   ]
  },
  {
   "cell_type": "markdown",
   "metadata": {},
   "source": [
    "If anyone knows a way round that constraint I would be very interested."
   ]
  },
  {
   "cell_type": "code",
   "execution_count": null,
   "metadata": {},
   "outputs": [],
   "source": []
  },
  {
   "cell_type": "code",
   "execution_count": null,
   "metadata": {},
   "outputs": [],
   "source": []
  },
  {
   "cell_type": "code",
   "execution_count": null,
   "metadata": {},
   "outputs": [],
   "source": []
  },
  {
   "cell_type": "code",
   "execution_count": null,
   "metadata": {},
   "outputs": [],
   "source": []
  }
 ],
 "metadata": {
  "kernelspec": {
   "display_name": "Python [conda env:torch]",
   "language": "python",
   "name": "conda-env-torch-py"
  },
  "language_info": {
   "codemirror_mode": {
    "name": "ipython",
    "version": 3
   },
   "file_extension": ".py",
   "mimetype": "text/x-python",
   "name": "python",
   "nbconvert_exporter": "python",
   "pygments_lexer": "ipython3",
   "version": "3.9.0"
  }
 },
 "nbformat": 4,
 "nbformat_minor": 4
}
