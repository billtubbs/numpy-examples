{
 "cells": [
  {
   "cell_type": "markdown",
   "metadata": {},
   "source": [
    "# Vectorized Functions in Python"
   ]
  },
  {
   "cell_type": "code",
   "execution_count": 1,
   "metadata": {},
   "outputs": [
    {
     "data": {
      "text/plain": [
       "'3.6.10'"
      ]
     },
     "execution_count": 1,
     "metadata": {},
     "output_type": "execute_result"
    }
   ],
   "source": [
    "import numpy as np\n",
    "from platform import python_version\n",
    "python_version()"
   ]
  },
  {
   "cell_type": "code",
   "execution_count": 2,
   "metadata": {},
   "outputs": [],
   "source": [
    "def lorenz_odes(t, y, sigma, beta, rho):\n",
    "    \"\"\"The Lorenz ordinary differential equations.\n",
    "    \n",
    "    Arguments:\n",
    "        t (float): Not used (for compatibility with \n",
    "            scipy.integrate.solve_ivp).\n",
    "        y (array): Array of y values shape (..., 3).\n",
    "        sigma (float): Lorenz parameter.\n",
    "        beta (float): Lorenz parameter.\n",
    "        rho (float): Lorenz parameter.\n",
    "    \n",
    "    Returns:\n",
    "        dydt (tuple): Derivatives of y (dy/dt).\n",
    "    \"\"\"\n",
    "    return (\n",
    "        sigma * (y[1] - y[0]), \n",
    "        y[0] * (rho - y[2]) - y[1], \n",
    "        y[0] * y[1] - beta * y[2]\n",
    "    )\n",
    "\n",
    "# Lorenz system parameters\n",
    "beta = 8 / 3\n",
    "sigma = 10\n",
    "rho = 28\n",
    "\n",
    "# Test\n",
    "y = (-8, 8, 27)\n",
    "assert lorenz_odes(0, y, sigma, beta, rho) == (160, -16, -136)\n",
    "\n",
    "# Test - vectoriszed\n",
    "y_data = np.empty((3, 100))\n",
    "y_data[:] = np.array(y).reshape(-1, 1)\n",
    "d1, d2, d3 = lorenz_odes(0, y_data, sigma, beta, rho)\n",
    "dydt = np.empty_like(y_data)\n",
    "dydt[:] = d1, d2, d3\n",
    "assert np.all(dydt.transpose() == np.array([ 160.,  -16., -136.]))"
   ]
  },
  {
   "cell_type": "markdown",
   "metadata": {},
   "source": [
    "## Speed test"
   ]
  },
  {
   "cell_type": "code",
   "execution_count": 3,
   "metadata": {},
   "outputs": [
    {
     "name": "stdout",
     "output_type": "stream",
     "text": [
      "57.6 µs ± 282 ns per loop (mean ± std. dev. of 7 runs, 10000 loops each)\n"
     ]
    }
   ],
   "source": [
    "y_data = np.empty((3, 10000))\n",
    "y_data[:] = np.array(y).reshape(-1, 1)\n",
    "%timeit d1, d2, d3 = lorenz_odes(0, y_data, sigma, beta, rho)"
   ]
  },
  {
   "cell_type": "code",
   "execution_count": null,
   "metadata": {},
   "outputs": [],
   "source": []
  },
  {
   "cell_type": "code",
   "execution_count": null,
   "metadata": {},
   "outputs": [],
   "source": []
  },
  {
   "cell_type": "code",
   "execution_count": null,
   "metadata": {},
   "outputs": [],
   "source": []
  }
 ],
 "metadata": {
  "kernelspec": {
   "display_name": "Python [conda env:torch]",
   "language": "python",
   "name": "conda-env-torch-py"
  },
  "language_info": {
   "codemirror_mode": {
    "name": "ipython",
    "version": 3
   },
   "file_extension": ".py",
   "mimetype": "text/x-python",
   "name": "python",
   "nbconvert_exporter": "python",
   "pygments_lexer": "ipython3",
   "version": "3.6.10"
  }
 },
 "nbformat": 4,
 "nbformat_minor": 4
}
